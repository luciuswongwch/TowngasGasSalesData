{
 "cells": [
  {
   "cell_type": "code",
   "execution_count": 90,
   "id": "26986d5b-3510-4d9f-b517-d88b8e1ecd2f",
   "metadata": {},
   "outputs": [],
   "source": [
    "import pandas as pd"
   ]
  },
  {
   "cell_type": "code",
   "execution_count": 91,
   "id": "4de0c322-5022-43ae-a551-47adf96a84d5",
   "metadata": {},
   "outputs": [],
   "source": [
    "file_name = \"./data/Gas Sales RCI.xlsx\""
   ]
  },
  {
   "cell_type": "code",
   "execution_count": 92,
   "id": "6eaa68db-5d7a-48cd-a149-5d6002d26bba",
   "metadata": {},
   "outputs": [],
   "source": [
    "xl = pd.ExcelFile(file_name)\n",
    "for sheet in xl.sheet_names:\n",
    "    df = xl.parse(sheet)\n",
    "    df = df.iloc[1:]\n",
    "    df.head()"
   ]
  },
  {
   "cell_type": "code",
   "execution_count": 93,
   "id": "484f8d6b-3f0f-4886-ad9d-02ece31bf309",
   "metadata": {},
   "outputs": [
    {
     "name": "stdout",
     "output_type": "stream",
     "text": [
      "Requirement already satisfied: openpyxl in c:\\users\\lucius_wong\\.pyenv\\pyenv-win\\versions\\3.11.9\\lib\\site-packages (3.1.5)\n",
      "Requirement already satisfied: et-xmlfile in c:\\users\\lucius_wong\\.pyenv\\pyenv-win\\versions\\3.11.9\\lib\\site-packages (from openpyxl) (2.0.0)\n",
      "Note: you may need to restart the kernel to use updated packages.\n"
     ]
    }
   ],
   "source": [
    "pip install openpyxl"
   ]
  },
  {
   "cell_type": "code",
   "execution_count": 94,
   "id": "bbff0d01-4c45-489e-b8ca-78fae52d9c2d",
   "metadata": {},
   "outputs": [
    {
     "data": {
      "text/html": [
       "<div>\n",
       "<style scoped>\n",
       "    .dataframe tbody tr th:only-of-type {\n",
       "        vertical-align: middle;\n",
       "    }\n",
       "\n",
       "    .dataframe tbody tr th {\n",
       "        vertical-align: top;\n",
       "    }\n",
       "\n",
       "    .dataframe thead th {\n",
       "        text-align: right;\n",
       "    }\n",
       "</style>\n",
       "<table border=\"1\" class=\"dataframe\">\n",
       "  <thead>\n",
       "    <tr style=\"text-align: right;\">\n",
       "      <th></th>\n",
       "      <th>Gas Sales in TJ</th>\n",
       "      <th>Unnamed: 1</th>\n",
       "      <th>Trade Group1</th>\n",
       "      <th>Unnamed: 3</th>\n",
       "      <th>Unnamed: 4</th>\n",
       "      <th>Unnamed: 5</th>\n",
       "    </tr>\n",
       "  </thead>\n",
       "  <tbody>\n",
       "    <tr>\n",
       "      <th>1</th>\n",
       "      <td>2015</td>\n",
       "      <td>January</td>\n",
       "      <td>1810.515555</td>\n",
       "      <td>1067.79337</td>\n",
       "      <td>164.383104</td>\n",
       "      <td>3042.692029</td>\n",
       "    </tr>\n",
       "    <tr>\n",
       "      <th>2</th>\n",
       "      <td>NaN</td>\n",
       "      <td>February</td>\n",
       "      <td>1746.47472</td>\n",
       "      <td>1086.096582</td>\n",
       "      <td>163.418784</td>\n",
       "      <td>2995.990086</td>\n",
       "    </tr>\n",
       "    <tr>\n",
       "      <th>3</th>\n",
       "      <td>NaN</td>\n",
       "      <td>March</td>\n",
       "      <td>1368.086065</td>\n",
       "      <td>947.912266</td>\n",
       "      <td>141.858096</td>\n",
       "      <td>2457.856427</td>\n",
       "    </tr>\n",
       "    <tr>\n",
       "      <th>4</th>\n",
       "      <td>NaN</td>\n",
       "      <td>April</td>\n",
       "      <td>1463.376</td>\n",
       "      <td>1017.627482</td>\n",
       "      <td>153.714096</td>\n",
       "      <td>2634.717578</td>\n",
       "    </tr>\n",
       "    <tr>\n",
       "      <th>5</th>\n",
       "      <td>NaN</td>\n",
       "      <td>May</td>\n",
       "      <td>1152.128977</td>\n",
       "      <td>946.268698</td>\n",
       "      <td>148.87176</td>\n",
       "      <td>2247.269435</td>\n",
       "    </tr>\n",
       "  </tbody>\n",
       "</table>\n",
       "</div>"
      ],
      "text/plain": [
       "  Gas Sales in TJ Unnamed: 1 Trade Group1   Unnamed: 3  Unnamed: 4  \\\n",
       "1            2015    January  1810.515555   1067.79337  164.383104   \n",
       "2             NaN   February   1746.47472  1086.096582  163.418784   \n",
       "3             NaN      March  1368.086065   947.912266  141.858096   \n",
       "4             NaN      April     1463.376  1017.627482  153.714096   \n",
       "5             NaN        May  1152.128977   946.268698   148.87176   \n",
       "\n",
       "    Unnamed: 5  \n",
       "1  3042.692029  \n",
       "2  2995.990086  \n",
       "3  2457.856427  \n",
       "4  2634.717578  \n",
       "5  2247.269435  "
      ]
     },
     "execution_count": 94,
     "metadata": {},
     "output_type": "execute_result"
    }
   ],
   "source": [
    "df.head()"
   ]
  },
  {
   "cell_type": "code",
   "execution_count": 95,
   "id": "eff15a81-52ff-474b-9e26-ddb0528e00ec",
   "metadata": {},
   "outputs": [],
   "source": [
    "result_df = pd.DataFrame()"
   ]
  },
  {
   "cell_type": "code",
   "execution_count": 96,
   "id": "e0fa4366-c3c7-4cb0-8e17-8861f6054b22",
   "metadata": {},
   "outputs": [],
   "source": [
    "import calendar"
   ]
  },
  {
   "cell_type": "code",
   "execution_count": 97,
   "id": "5650b1ac-55e4-4332-b03a-0bbb4fa3aeab",
   "metadata": {},
   "outputs": [],
   "source": [
    "def month_number(month: str):\n",
    "    for c_index, c_month in enumerate(calendar.month_abbr):\n",
    "        if (month[:3] == c_month):\n",
    "            return c_index"
   ]
  },
  {
   "cell_type": "code",
   "execution_count": 98,
   "id": "6121ad47-0b1e-4edc-8388-e35af76b3f52",
   "metadata": {},
   "outputs": [],
   "source": [
    "#result_df[\"Year\", \"Month\", \"ResidentialGasSales\", \"CommercialGasSales\", \"IndustrialGasSales\", \"TotalGasSales\", \"Description\"]\n",
    "last_year = \"2015\"\n",
    "for row in df.values:\n",
    "    if (str(row[0]) != \"nan\"):\n",
    "        last_year = str(row[0])\n",
    "    new_row = [last_year, row[1], month_number(row[1]), row[2], row[3], row[4], row[5], \"Gas Sales in TJ\"]\n",
    "    result_df = pd.concat([result_df, pd.DataFrame([new_row])], ignore_index=True)"
   ]
  },
  {
   "cell_type": "code",
   "execution_count": 99,
   "id": "006a95a4-a07b-4eb0-9979-aae7734ff41e",
   "metadata": {},
   "outputs": [],
   "source": [
    "result_df.columns = [\"Year\", \"Month\", \"MonthNumber\", \"ResidentialGasSales\", \"CommercialGasSales\", \"IndustrialGasSales\", \"TotalGasSales\", \"Description\"]"
   ]
  },
  {
   "cell_type": "code",
   "execution_count": 100,
   "id": "15a6c559-ffc0-472e-bc1d-60292837bade",
   "metadata": {},
   "outputs": [
    {
     "data": {
      "text/html": [
       "<div>\n",
       "<style scoped>\n",
       "    .dataframe tbody tr th:only-of-type {\n",
       "        vertical-align: middle;\n",
       "    }\n",
       "\n",
       "    .dataframe tbody tr th {\n",
       "        vertical-align: top;\n",
       "    }\n",
       "\n",
       "    .dataframe thead th {\n",
       "        text-align: right;\n",
       "    }\n",
       "</style>\n",
       "<table border=\"1\" class=\"dataframe\">\n",
       "  <thead>\n",
       "    <tr style=\"text-align: right;\">\n",
       "      <th></th>\n",
       "      <th>Year</th>\n",
       "      <th>Month</th>\n",
       "      <th>MonthNumber</th>\n",
       "      <th>ResidentialGasSales</th>\n",
       "      <th>CommercialGasSales</th>\n",
       "      <th>IndustrialGasSales</th>\n",
       "      <th>TotalGasSales</th>\n",
       "      <th>Description</th>\n",
       "    </tr>\n",
       "  </thead>\n",
       "  <tbody>\n",
       "    <tr>\n",
       "      <th>0</th>\n",
       "      <td>2015</td>\n",
       "      <td>January</td>\n",
       "      <td>1</td>\n",
       "      <td>1810.515555</td>\n",
       "      <td>1067.793370</td>\n",
       "      <td>164.383104</td>\n",
       "      <td>3042.692029</td>\n",
       "      <td>Gas Sales in TJ</td>\n",
       "    </tr>\n",
       "    <tr>\n",
       "      <th>1</th>\n",
       "      <td>2015</td>\n",
       "      <td>February</td>\n",
       "      <td>2</td>\n",
       "      <td>1746.474720</td>\n",
       "      <td>1086.096582</td>\n",
       "      <td>163.418784</td>\n",
       "      <td>2995.990086</td>\n",
       "      <td>Gas Sales in TJ</td>\n",
       "    </tr>\n",
       "    <tr>\n",
       "      <th>2</th>\n",
       "      <td>2015</td>\n",
       "      <td>March</td>\n",
       "      <td>3</td>\n",
       "      <td>1368.086065</td>\n",
       "      <td>947.912266</td>\n",
       "      <td>141.858096</td>\n",
       "      <td>2457.856427</td>\n",
       "      <td>Gas Sales in TJ</td>\n",
       "    </tr>\n",
       "    <tr>\n",
       "      <th>3</th>\n",
       "      <td>2015</td>\n",
       "      <td>April</td>\n",
       "      <td>4</td>\n",
       "      <td>1463.376000</td>\n",
       "      <td>1017.627482</td>\n",
       "      <td>153.714096</td>\n",
       "      <td>2634.717578</td>\n",
       "      <td>Gas Sales in TJ</td>\n",
       "    </tr>\n",
       "    <tr>\n",
       "      <th>4</th>\n",
       "      <td>2015</td>\n",
       "      <td>May</td>\n",
       "      <td>5</td>\n",
       "      <td>1152.128977</td>\n",
       "      <td>946.268698</td>\n",
       "      <td>148.871760</td>\n",
       "      <td>2247.269435</td>\n",
       "      <td>Gas Sales in TJ</td>\n",
       "    </tr>\n",
       "    <tr>\n",
       "      <th>...</th>\n",
       "      <td>...</td>\n",
       "      <td>...</td>\n",
       "      <td>...</td>\n",
       "      <td>...</td>\n",
       "      <td>...</td>\n",
       "      <td>...</td>\n",
       "      <td>...</td>\n",
       "      <td>...</td>\n",
       "    </tr>\n",
       "    <tr>\n",
       "      <th>114</th>\n",
       "      <td>2024</td>\n",
       "      <td>July</td>\n",
       "      <td>7</td>\n",
       "      <td>893.090499</td>\n",
       "      <td>844.761000</td>\n",
       "      <td>148.248432</td>\n",
       "      <td>1886.099931</td>\n",
       "      <td>Gas Sales in TJ</td>\n",
       "    </tr>\n",
       "    <tr>\n",
       "      <th>115</th>\n",
       "      <td>2024</td>\n",
       "      <td>August</td>\n",
       "      <td>8</td>\n",
       "      <td>875.354307</td>\n",
       "      <td>862.259653</td>\n",
       "      <td>152.983536</td>\n",
       "      <td>1890.597496</td>\n",
       "      <td>Gas Sales in TJ</td>\n",
       "    </tr>\n",
       "    <tr>\n",
       "      <th>116</th>\n",
       "      <td>2024</td>\n",
       "      <td>September</td>\n",
       "      <td>9</td>\n",
       "      <td>873.001968</td>\n",
       "      <td>862.804655</td>\n",
       "      <td>143.653920</td>\n",
       "      <td>1879.460543</td>\n",
       "      <td>Gas Sales in TJ</td>\n",
       "    </tr>\n",
       "    <tr>\n",
       "      <th>117</th>\n",
       "      <td>2024</td>\n",
       "      <td>October</td>\n",
       "      <td>10</td>\n",
       "      <td>892.577811</td>\n",
       "      <td>829.819803</td>\n",
       "      <td>138.157536</td>\n",
       "      <td>1860.555150</td>\n",
       "      <td>Gas Sales in TJ</td>\n",
       "    </tr>\n",
       "    <tr>\n",
       "      <th>118</th>\n",
       "      <td>2024</td>\n",
       "      <td>November</td>\n",
       "      <td>11</td>\n",
       "      <td>909.966960</td>\n",
       "      <td>760.576326</td>\n",
       "      <td>123.117696</td>\n",
       "      <td>1793.660982</td>\n",
       "      <td>Gas Sales in TJ</td>\n",
       "    </tr>\n",
       "  </tbody>\n",
       "</table>\n",
       "<p>119 rows × 8 columns</p>\n",
       "</div>"
      ],
      "text/plain": [
       "     Year      Month  MonthNumber  ResidentialGasSales  CommercialGasSales  \\\n",
       "0    2015    January            1          1810.515555         1067.793370   \n",
       "1    2015   February            2          1746.474720         1086.096582   \n",
       "2    2015      March            3          1368.086065          947.912266   \n",
       "3    2015      April            4          1463.376000         1017.627482   \n",
       "4    2015        May            5          1152.128977          946.268698   \n",
       "..    ...        ...          ...                  ...                 ...   \n",
       "114  2024       July            7           893.090499          844.761000   \n",
       "115  2024     August            8           875.354307          862.259653   \n",
       "116  2024  September            9           873.001968          862.804655   \n",
       "117  2024    October           10           892.577811          829.819803   \n",
       "118  2024   November           11           909.966960          760.576326   \n",
       "\n",
       "     IndustrialGasSales  TotalGasSales      Description  \n",
       "0            164.383104    3042.692029  Gas Sales in TJ  \n",
       "1            163.418784    2995.990086  Gas Sales in TJ  \n",
       "2            141.858096    2457.856427  Gas Sales in TJ  \n",
       "3            153.714096    2634.717578  Gas Sales in TJ  \n",
       "4            148.871760    2247.269435  Gas Sales in TJ  \n",
       "..                  ...            ...              ...  \n",
       "114          148.248432    1886.099931  Gas Sales in TJ  \n",
       "115          152.983536    1890.597496  Gas Sales in TJ  \n",
       "116          143.653920    1879.460543  Gas Sales in TJ  \n",
       "117          138.157536    1860.555150  Gas Sales in TJ  \n",
       "118          123.117696    1793.660982  Gas Sales in TJ  \n",
       "\n",
       "[119 rows x 8 columns]"
      ]
     },
     "execution_count": 100,
     "metadata": {},
     "output_type": "execute_result"
    }
   ],
   "source": [
    "result_df"
   ]
  },
  {
   "cell_type": "code",
   "execution_count": 103,
   "id": "7ce6282e-c4b8-47c4-9b2c-471d0f7e79b0",
   "metadata": {},
   "outputs": [
    {
     "name": "stdout",
     "output_type": "stream",
     "text": [
      "Collecting pyodbc\n",
      "  Downloading pyodbc-5.2.0-cp311-cp311-win_amd64.whl.metadata (2.8 kB)\n",
      "Downloading pyodbc-5.2.0-cp311-cp311-win_amd64.whl (68 kB)\n",
      "Installing collected packages: pyodbc\n",
      "Successfully installed pyodbc-5.2.0\n",
      "Note: you may need to restart the kernel to use updated packages.\n"
     ]
    }
   ],
   "source": [
    "pip install pyodbc"
   ]
  },
  {
   "cell_type": "code",
   "execution_count": 104,
   "id": "79838367-66ce-41a2-8a5c-dc743226703d",
   "metadata": {},
   "outputs": [],
   "source": [
    "import pyodbc"
   ]
  },
  {
   "cell_type": "code",
   "execution_count": 128,
   "id": "be5ce2bb-0040-48d5-83f1-e8ec209b8a8e",
   "metadata": {},
   "outputs": [],
   "source": [
    "server = \"db-at-dev-01.database.windows.net\"\n",
    "database = \"db-at-dev-gas-sale-01\"\n",
    "username = \"sqladmin\"\n",
    "password = \"Password2025\""
   ]
  },
  {
   "cell_type": "code",
   "execution_count": 134,
   "id": "fc545177-5ffb-445f-80a0-86094dc0b703",
   "metadata": {},
   "outputs": [],
   "source": [
    "cnxn = pyodbc.connect('DRIVER={SQL Server};SERVER='+server+';DATABASE='+database+';UID='+username+';PWD='+ password)"
   ]
  },
  {
   "cell_type": "code",
   "execution_count": 135,
   "id": "50b9635c-6343-4e4b-b003-d070192a510e",
   "metadata": {},
   "outputs": [],
   "source": [
    "cursor = cnxn.cursor()\n",
    "# Insert Dataframe into SQL Server:\n",
    "for index, row in result_df.iterrows():\n",
    "     cursor.execute(\"INSERT INTO MonthlyGasSales.RCI (Year, Month, MonthNumber, ResidentialGasSales, CommercialGasSales, IndustrialGasSales, TotalGasSales, Description) values(?,?,?,?,?,?,?,?)\", row.Year, row.Month, row.MonthNumber, row.ResidentialGasSales, row.CommercialGasSales, row.IndustrialGasSales, row.TotalGasSales, row.Description)\n",
    "cnxn.commit()\n",
    "cursor.close()"
   ]
  },
  {
   "cell_type": "code",
   "execution_count": null,
   "id": "fb6740b6-ab52-4e4a-8f74-a140545118c4",
   "metadata": {},
   "outputs": [],
   "source": []
  }
 ],
 "metadata": {
  "kernelspec": {
   "display_name": "Python 3 (ipykernel)",
   "language": "python",
   "name": "python3"
  },
  "language_info": {
   "codemirror_mode": {
    "name": "ipython",
    "version": 3
   },
   "file_extension": ".py",
   "mimetype": "text/x-python",
   "name": "python",
   "nbconvert_exporter": "python",
   "pygments_lexer": "ipython3",
   "version": "3.11.9"
  }
 },
 "nbformat": 4,
 "nbformat_minor": 5
}
